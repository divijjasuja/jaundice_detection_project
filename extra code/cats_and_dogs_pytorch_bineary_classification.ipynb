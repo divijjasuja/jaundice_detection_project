{
  "cells": [
    {
      "cell_type": "markdown",
      "metadata": {
        "id": "4SnUIQc5eyp_"
      },
      "source": [
        "## download dataset stright from kaggle"
      ]
    },
    {
      "cell_type": "code",
      "execution_count": null,
      "metadata": {
        "colab": {
          "base_uri": "https://localhost:8080/",
          "height": 390
        },
        "id": "9Ewj-prCeZIh",
        "outputId": "0e0f2f86-2c7f-4dce-d7af-9bfd23226262"
      },
      "outputs": [],
      "source": [
        "%%capture\n",
        "%pip install kaggle\n",
        "\n",
        "#upload your tokn\n",
        "from google.colab import files\n",
        "import time\n",
        "\n",
        "uploaded = files.upload()\n",
        "time.sleep(3)\n",
        "\n",
        "#download directly from kaggle\n",
        "%cp kaggle.json ~/.kaggle/\n",
        "%chmod 600 ~/.kaggle/kaggle.json\n",
        "!kaggle competitions download \"dogs-vs-cats\""
      ]
    },
    {
      "cell_type": "markdown",
      "metadata": {
        "id": "atm87Ia5e5mN"
      },
      "source": [
        "## unzip dataset\n"
      ]
    },
    {
      "cell_type": "code",
      "execution_count": null,
      "metadata": {
        "colab": {
          "base_uri": "https://localhost:8080/",
          "height": 366
        },
        "id": "i6NENOu4ejdO",
        "outputId": "90db89b0-5d75-45eb-eba5-66ab8c8b9a6c"
      },
      "outputs": [],
      "source": [
        "import zipfile\n",
        "\n",
        "#root directory\n",
        "data_zip = \"/content/dogs-vs-cats.zip\"\n",
        "data_dir = \"./data\"\n",
        "data_zip_ref = zipfile.ZipFile(data_zip,\"r\")\n",
        "data_zip_ref.extractall(data_dir)\n",
        "\n",
        "#test\n",
        "test_zip = \"/content/data/test1.zip\"\n",
        "test_dir = \"./data\"\n",
        "test_zip_ref = zipfile.ZipFile(test_zip,\"r\")\n",
        "test_zip_ref.extractall(test_dir)\n",
        "\n",
        "#train\n",
        "train_zip = \"/content/data/train.zip\"\n",
        "train_dir = \"./data\"\n",
        "train_zip_ref = zipfile.ZipFile(train_zip,\"r\")\n",
        "train_zip_ref.extractall(train_dir)"
      ]
    },
    {
      "cell_type": "markdown",
      "metadata": {
        "id": "-IFZFe2ae8sU"
      },
      "source": [
        "## Structure and populate the subfolders"
      ]
    },
    {
      "cell_type": "code",
      "execution_count": null,
      "metadata": {
        "id": "yZwpIFNYfDMf"
      },
      "outputs": [],
      "source": [
        "import os\n",
        "import glob\n",
        "\n",
        "# dat_dir = \"/content/data\"\n",
        "data_dir = \"./\"\n",
        "\n",
        "#create training dir\n",
        "training_dir = os.path.join(data_dir,\"training\")\n",
        "if not os.path.isdir(training_dir):\n",
        "  os.mkdir(training_dir)\n",
        "\n",
        "#create dog in training\n",
        "dog_training_dir = os.path.join(training_dir,\"dog\")\n",
        "if not os.path.isdir(dog_training_dir):\n",
        "  os.mkdir(dog_training_dir)\n",
        "\n",
        "#create cat in training\n",
        "cat_training_dir = os.path.join(training_dir,\"cat\")\n",
        "if not os.path.isdir(cat_training_dir):\n",
        "  os.mkdir(cat_training_dir)\n",
        "\n",
        "#create validation dir\n",
        "validation_dir = os.path.join(data_dir,\"validation\")\n",
        "if not os.path.isdir(validation_dir):\n",
        "  os.mkdir(validation_dir)\n",
        "\n",
        "#create dog in validation\n",
        "dog_validation_dir = os.path.join(validation_dir,\"dog\")\n",
        "if not os.path.isdir(dog_validation_dir):\n",
        "  os.mkdir(dog_validation_dir)\n",
        "\n",
        "#create cat in validation\n",
        "cat_validation_dir = os.path.join(validation_dir,\"cat\")\n",
        "if not os.path.isdir(cat_validation_dir):\n",
        "  os.mkdir(cat_validation_dir)"
      ]
    },
    {
      "cell_type": "markdown",
      "metadata": {
        "id": "Cl6o5wvAfEcU"
      },
      "source": [
        "### Shuffle newly aquired data in folder"
      ]
    },
    {
      "cell_type": "code",
      "execution_count": null,
      "metadata": {
        "id": "rUzGYjDpfKUs"
      },
      "outputs": [],
      "source": [
        "import shutil\n",
        "from numpy import size\n",
        "\n",
        "split_size = 0.80\n",
        "# cat_imgs_size = len(glob.glob(\"/content/data/train/cat*\"))\n",
        "# dog_imgs_size = len(glob.glob(\"/content/data/train/dog*\"))\n",
        "cat_imgs_size = len(glob.glob(\"./archive (1)/train/train/cat*\"))\n",
        "dog_imgs_size = len(glob.glob(\"./archive (1)/train/train/dog*\"))\n",
        "\n",
        "\n",
        "size = 300\n",
        "\n",
        "\n",
        "cat_counter = size\n",
        "for i,img in enumerate(glob.glob(\"./archive (1)/train/train/cat*\")):\n",
        "  if(cat_counter==0):\n",
        "    break\n",
        "  if i < (size * split_size):\n",
        "    shutil.move(img,cat_training_dir)\n",
        "    cat_counter -= 1\n",
        "  else:\n",
        "    shutil.move(img,cat_validation_dir)\n",
        "    cat_counter -= 1\n",
        "\n",
        "\n",
        "dog_counter = size\n",
        "for i,img in enumerate(glob.glob(\"./archive (1)/train/train/dog*\")):\n",
        "  if(dog_counter==0):\n",
        "    break\n",
        "  if i < (size * split_size):\n",
        "    shutil.move(img,dog_training_dir)\n",
        "    dog_counter -= 1\n",
        "  else:\n",
        "    shutil.move(img,dog_validation_dir)\n",
        "    dog_counter -= 1"
      ]
    },
    {
      "cell_type": "markdown",
      "metadata": {
        "id": "vRlVfednfT8J"
      },
      "source": [
        "## plot some examples\n"
      ]
    },
    {
      "cell_type": "code",
      "execution_count": null,
      "metadata": {
        "id": "zxj2kHRLfWYr"
      },
      "outputs": [],
      "source": [
        "import matplotlib.pyplot as plt\n",
        "import numpy as np\n",
        "# import cv2\n",
        "\n",
        "from IPython.core.pylabtools import figsize\n",
        "\n",
        "samples_dog = [os.path.join(dog_training_dir,np.random.choice(a = os.listdir(dog_training_dir),size = 1)[0]) for _ in range(8)]\n",
        "samples_cat = [os.path.join(cat_training_dir,np.random.choice(a = os.listdir(cat_training_dir),size = 1)[0]) for _ in range(8)]\n",
        "\n",
        "nrows = 4\n",
        "ncols = 4\n",
        "\n",
        "fig, ax = plt.subplots(nrows,ncols,figsize = (10,10))\n",
        "ax = ax.flatten()\n",
        "\n",
        "for i in range(nrows*ncols):\n",
        "  if i < 8:\n",
        "    pic = plt.imread(samples_dog[i%8])\n",
        "    ax[i].imshow(pic)\n",
        "    ax[i].set_axis_off()\n",
        "  else:\n",
        "    pic = plt.imread(samples_cat[i%8])\n",
        "    ax[i].imshow(pic)\n",
        "    ax[i].set_axis_off()\n",
        "plt.show()"
      ]
    },
    {
      "cell_type": "markdown",
      "metadata": {
        "id": "O--EXEvYfhOp"
      },
      "source": [
        "## Create dataloader\n",
        "\n",
        "Now we are going to do 3 things:\n",
        "\n",
        "1. Let’s preprocess our data using the compose method, which is a simple method to apply multiple preprocessing functions like normalization and data augmentation to our dataset.\n",
        "2. Let’s use ImageFolder to create a pytorch dataset. PyTorch infers the class automatically if the subdirectories structure is well defined (as in our case).\n",
        "3. Use the DataLoader to slice our data in batches."
      ]
    },
    {
      "cell_type": "code",
      "execution_count": null,
      "metadata": {
        "id": "uw_Ncwdcfgq-"
      },
      "outputs": [],
      "source": [
        "import torch\n",
        "import torch.utils.data\n",
        "import torchvision\n",
        "from torchvision import datasets, transforms\n",
        "\n",
        "# traindir = \"/content/data/training\"\n",
        "# testdir = \"/content/data/validation\"\n",
        "traindir = \"./training\"\n",
        "testdir = \"./validation\"\n",
        "\n",
        "#transformations\n",
        "train_transforms = transforms.Compose([transforms.Resize((224,224)),\n",
        "                                       transforms.ToTensor(),\n",
        "                                       torchvision.transforms.Normalize(\n",
        "                                           mean=[0.485, 0.456, 0.406],\n",
        "                                           std=[0.229, 0.224, 0.225],\n",
        "    ),\n",
        "                                       ])\n",
        "test_transforms = transforms.Compose([transforms.Resize((224,224)),\n",
        "                                      transforms.ToTensor(),\n",
        "                                      torchvision.transforms.Normalize(\n",
        "                                          mean=[0.485, 0.456, 0.406],\n",
        "                                          std=[0.229, 0.224, 0.225],\n",
        "    ),\n",
        "                                      ])\n",
        "\n",
        "#datasets\n",
        "train_data = datasets.ImageFolder(traindir,transform=train_transforms)\n",
        "test_data = datasets.ImageFolder(testdir,transform=test_transforms)\n",
        "\n",
        "#dataloader\n",
        "trainloader = torch.utils.data.DataLoader(train_data, shuffle = True, batch_size=16)\n",
        "testloader = torch.utils.data.DataLoader(test_data, shuffle = True, batch_size=16)"
      ]
    },
    {
      "cell_type": "markdown",
      "metadata": {
        "id": "47sto84vf6Pz"
      },
      "source": [
        "## training function"
      ]
    },
    {
      "cell_type": "code",
      "execution_count": null,
      "metadata": {
        "id": "Vp6FicgZf5ni"
      },
      "outputs": [],
      "source": [
        "def make_train_step(model, optimizer, loss_fn):\n",
        "  def train_step(x,y):\n",
        "    #make prediction\n",
        "    yhat = model(x) #forward pass\n",
        "    #enter train mode\n",
        "    model.train() # make model to train\n",
        "    #compute loss\n",
        "    loss = loss_fn(yhat,y) # calculate loss\n",
        "\n",
        "    loss.backward() # backward propogation\n",
        "    optimizer.step() #optimizer step\n",
        "    optimizer.zero_grad() \n",
        "    #optimizer.cleargrads()\n",
        "\n",
        "    return loss\n",
        "  return train_step"
      ]
    },
    {
      "cell_type": "markdown",
      "metadata": {
        "id": "DZW4QHmMgEMX"
      },
      "source": [
        "## Our model used"
      ]
    },
    {
      "cell_type": "code",
      "execution_count": null,
      "metadata": {
        "id": "IVKIfA_0gGRC"
      },
      "outputs": [],
      "source": [
        "from torchvision import datasets, models, transforms\n",
        "import torch.nn as nn\n",
        "\n",
        "device = \"cuda\" if torch.cuda.is_available() else \"cpu\"\n",
        "model = models.resnet18(pretrained=True)\n",
        "\n",
        "#freeze all params\n",
        "# for params in model.parameters():\n",
        "#   params.requires_grad_ = False\n",
        "\n",
        "model.eval()\n",
        "#add a new final layer\n",
        "with torch.no_grad():\n",
        "  nr_filters = model.fc.in_features  #number of input features of last layer\n",
        "  model.fc = nn.Linear(nr_filters, 1)\n",
        "\n",
        "  model = model.to(device)"
      ]
    },
    {
      "cell_type": "markdown",
      "metadata": {
        "id": "zjDdumzqgLDy"
      },
      "source": [
        "### Optimizer and make train step"
      ]
    },
    {
      "cell_type": "code",
      "execution_count": null,
      "metadata": {
        "id": "57Xx7rEWgPT2"
      },
      "outputs": [],
      "source": [
        "from torch.nn.modules.loss import BCEWithLogitsLoss\n",
        "from torch.optim import lr_scheduler\n",
        "\n",
        "#loss\n",
        "loss_fn = BCEWithLogitsLoss() #binary cross entropy with sigmoid, so no need to use sigmoid in the model\n",
        "\n",
        "#optimizer\n",
        "optimizer = torch.optim.Adam(model.fc.parameters())\n",
        "\n",
        "#train step\n",
        "train_step = make_train_step(model, optimizer, loss_fn)"
      ]
    },
    {
      "cell_type": "markdown",
      "metadata": {
        "id": "u3Hr3ZVugQwL"
      },
      "source": [
        "## Train the model\n"
      ]
    },
    {
      "cell_type": "code",
      "execution_count": null,
      "metadata": {
        "id": "aZo6rJaIgUBV"
      },
      "outputs": [],
      "source": [
        "# %%capture\n",
        "# %pip install tqdm\n",
        "from tqdm import tqdm\n",
        "\n",
        "\n",
        "losses = []\n",
        "val_losses = []\n",
        "\n",
        "epoch_train_losses = []\n",
        "epoch_test_losses = []\n",
        "\n",
        "n_epochs = 3 #10\n",
        "early_stopping_tolerance = 3\n",
        "early_stopping_threshold = 0.3 # 0.03\n",
        "\n",
        "for epoch in range(n_epochs):\n",
        "  print(f\"epoch {epoch} is running\")\n",
        "  epoch_loss = 0\n",
        "  for i ,data in tqdm(enumerate(trainloader), total = len(trainloader)): #iterate ove batches\n",
        "  # for i ,data in enumerate(trainloader): #iterate ove batches\n",
        "    x_batch , y_batch = data\n",
        "    x_batch = x_batch.to(device) #move to gpu\n",
        "    y_batch = y_batch.unsqueeze(1).float() #convert target to same nn output shape\n",
        "    y_batch = y_batch.to(device) #move to gpu\n",
        "\n",
        "    loss = train_step(x_batch, y_batch)\n",
        "    epoch_loss += loss/len(trainloader)\n",
        "    losses.append(loss)\n",
        "\n",
        "  epoch_train_losses.append(epoch_loss)\n",
        "  print('\\nEpoch : {}, train loss : {}'.format(epoch+1,epoch_loss))\n",
        "\n",
        "  #validation doesnt requires gradient\n",
        "  with torch.no_grad():\n",
        "    cum_loss = 0\n",
        "    for x_batch, y_batch in testloader:\n",
        "      x_batch = x_batch.to(device)\n",
        "      y_batch = y_batch.unsqueeze(1).float() #convert target to same nn output shape\n",
        "      y_batch = y_batch.to(device)\n",
        "\n",
        "      #model to eval mode\n",
        "      model.eval()\n",
        "\n",
        "      yhat = model(x_batch)\n",
        "      val_loss = loss_fn(yhat,y_batch)\n",
        "      cum_loss += loss/len(testloader)\n",
        "      val_losses.append(val_loss.item())\n",
        "\n",
        "\n",
        "    epoch_test_losses.append(cum_loss)\n",
        "    print('Epoch : {}, val loss : {}'.format(epoch+1,cum_loss))\n",
        "\n",
        "    best_loss = min(epoch_test_losses)\n",
        "\n",
        "    #save best model\n",
        "    if cum_loss <= best_loss:\n",
        "      best_model_wts = model.state_dict()\n",
        "\n",
        "    #early stopping\n",
        "    early_stopping_counter = 0\n",
        "    if cum_loss > best_loss:\n",
        "      early_stopping_counter +=1\n",
        "\n",
        "    if (early_stopping_counter == early_stopping_tolerance) or (best_loss <= early_stopping_threshold):\n",
        "      print(\"/nTerminating: early stopping\")\n",
        "      break #terminate training\n",
        "\n",
        "#load best model\n",
        "model.load_state_dict(best_model_wts)"
      ]
    },
    {
      "cell_type": "markdown",
      "metadata": {
        "id": "cclwNASbgZRR"
      },
      "source": [
        "## Inference"
      ]
    },
    {
      "cell_type": "code",
      "execution_count": null,
      "metadata": {
        "id": "r6Ch-f2WgdHC"
      },
      "outputs": [],
      "source": [
        "import matplotlib.pyplot as plt\n",
        "\n",
        "def inference(test_data):\n",
        "  idx = torch.randint(1, len(test_data), (1,))\n",
        "  sample = torch.unsqueeze(test_data[idx][0], dim=0).to(device)\n",
        "\n",
        "  if torch.sigmoid(model(sample)) < 0.5:\n",
        "    print(\"Prediction : Cat\")\n",
        "  else:\n",
        "    print(\"Prediction : Dog\")\n",
        "\n",
        "\n",
        "  plt.imshow(test_data[idx][0].permute(1, 2, 0))\n",
        "\n",
        "inference(test_data)"
      ]
    }
  ],
  "metadata": {
    "colab": {
      "provenance": []
    },
    "kernelspec": {
      "display_name": "Python 3",
      "name": "python3"
    },
    "language_info": {
      "codemirror_mode": {
        "name": "ipython",
        "version": 3
      },
      "file_extension": ".py",
      "mimetype": "text/x-python",
      "name": "python",
      "nbconvert_exporter": "python",
      "pygments_lexer": "ipython3",
      "version": "3.11.5"
    }
  },
  "nbformat": 4,
  "nbformat_minor": 0
}
