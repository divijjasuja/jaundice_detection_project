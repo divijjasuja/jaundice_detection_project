{
 "cells": [
  {
   "cell_type": "markdown",
   "metadata": {},
   "source": [
    "# Jaundice Detection Project"
   ]
  },
  {
   "cell_type": "markdown",
   "metadata": {},
   "source": [
    "## Skin Detection"
   ]
  },
  {
   "cell_type": "code",
   "execution_count": null,
   "metadata": {},
   "outputs": [],
   "source": [
    "# our custom transformer to detect only skin\n",
    "import matplotlib.pyplot as plt\n",
    "import cv2\n",
    "import numpy as np\n",
    "\n",
    "def custom_skin_detector(img):\n",
    "    img = np.array(img)\n",
    "    img_HSV = cv2.cvtColor(img, cv2.COLOR_BGR2HSV)\n",
    "\n",
    "    #skin color range for h in hsv\n",
    "    HSV_mask = cv2.inRange(img_HSV[:,:,0], np.array((0)), np.array((17)))\n",
    "    HSV_mask = cv2.morphologyEx(HSV_mask,cv2.MORPH_OPEN,np.ones((3,3),np.uint8))\n",
    "\n",
    "    #converting from gbr to YCbCr color space\n",
    "    img_YCrCb = cv2.cvtColor(img, cv2.COLOR_BGR2YCrCb)\n",
    "\n",
    "    #putting all values of y to 0\n",
    "    img_YCrCb[:,:,0] = 0\n",
    "\n",
    "    #skin color range for ycrcb color space \n",
    "    YCrCb_mask = cv2.inRange(img_YCrCb, np.array((0, 135, 85)), np.array((255,180,135))) \n",
    "    YCrCb_mask = cv2.morphologyEx(YCrCb_mask, cv2.MORPH_OPEN, np.ones((3,3), np.uint8))\n",
    "\n",
    "    #global mask made from YCrCb mask and hsv mask\n",
    "    global_mask=cv2.bitwise_and(YCrCb_mask,HSV_mask)\n",
    "    global_mask=cv2.medianBlur(global_mask,3)\n",
    "    global_mask = cv2.morphologyEx(global_mask, cv2.MORPH_OPEN, np.ones((4,4), np.uint8))\n",
    "    global_img = cv2.bitwise_and(img,img,mask=global_mask)\n",
    "    global_img = cv2.cvtColor(global_img,cv2.COLOR_BGR2RGB)\n",
    "    return global_img"
   ]
  },
  {
   "cell_type": "markdown",
   "metadata": {},
   "source": [
    "## Getting the data"
   ]
  },
  {
   "cell_type": "code",
   "execution_count": null,
   "metadata": {},
   "outputs": [],
   "source": [
    "from PIL import Image\n",
    "class SkinTransform:\n",
    "    def __call__(self, image):\n",
    "        image = image.convert('RGB')\n",
    "        numpy_image = np.array(image)\n",
    "        image = numpy_image[:,:,::-1].copy()\n",
    "        image = custom_skin_detector(image)\n",
    "        image = Image.fromarray(image.astype('uint8'))\n",
    "        return image"
   ]
  },
  {
   "cell_type": "code",
   "execution_count": null,
   "metadata": {},
   "outputs": [],
   "source": [
    "import torch\n",
    "from torch import nn\n",
    "from torch.utils.data import DataLoader, random_split\n",
    "from torchvision import datasets, transforms\n",
    "import numpy as np\n",
    "\n",
    "# transformations\n",
    "transform = transforms.Compose([\n",
    "    SkinTransform(),\n",
    "    transforms.Resize((512,512)),    \n",
    "    transforms.ToTensor()\n",
    "])\n",
    "\n",
    "# Load the datasets\n",
    "dataset = datasets.ImageFolder('./images',transform=transform)\n",
    "\n",
    "\n",
    "# combined dataset\n",
    "train_size = int(0.8*len(dataset))\n",
    "test_size = len(dataset) - train_size\n",
    "\n",
    "train_dataset, test_dataset = random_split(dataset, [train_size,test_size],generator=torch.Generator().manual_seed(42))\n",
    "\n",
    "\n",
    "# Create the dataloaders\n",
    "batch_size = 32\n",
    "train_loader = DataLoader(train_dataset,batch_size=batch_size, shuffle=True)\n",
    "test_loader = DataLoader(test_dataset,batch_size=batch_size,shuffle=True)"
   ]
  },
  {
   "cell_type": "code",
   "execution_count": null,
   "metadata": {},
   "outputs": [],
   "source": [
    "import matplotlib.pyplot as plt\n",
    "image,labels = next(iter(train_loader))\n",
    "plt.figure()\n",
    "plt.imshow(image[0].permute(1,2,0).numpy())\n",
    "plt.show()"
   ]
  },
  {
   "cell_type": "markdown",
   "metadata": {},
   "source": [
    "## Models"
   ]
  },
  {
   "cell_type": "code",
   "execution_count": null,
   "metadata": {},
   "outputs": [],
   "source": [
    "# # Defining models\n",
    "\n",
    "# import torch.nn as nn\n",
    "# import torch.nn.functional as F\n",
    "# from torchvision import models\n",
    "\n",
    "# class SimpleCNN(nn.Module):\n",
    "#     def __init__(self):\n",
    "#         super(SimpleCNN, self).__init__()\n",
    "#         self.conv1 = nn.Conv2d(3, 6, 5)\n",
    "#         self.pool = nn.MaxPool2d(2, 2)\n",
    "#         self.conv2 = nn.Conv2d(6, 16, 5)\n",
    "#         self.fc1 = nn.Linear(16 * 5 * 5, 120)\n",
    "#         self.fc2 = nn.Linear(120, 84)\n",
    "#         self.fc3 = nn.Linear(84, 1)\n",
    "\n",
    "#     def forward(self, x):\n",
    "#         x = self.pool(F.relu(self.conv1(x)))\n",
    "#         x = self.pool(F.relu(self.conv2(x)))\n",
    "#         x = x.view(-1, 16 * 5 * 5)\n",
    "#         x = F.relu(self.fc1(x))\n",
    "#         x = F.relu(self.fc2(x))\n",
    "#         x = self.fc3(x)\n",
    "#         return x\n",
    "\n",
    "# device = \"cuda\" if torch.cuda.is_available() else 'cpu'\n",
    "# model = SimpleCNN()\n",
    "\n",
    "# # CNN model\n",
    "# def CNN():\n",
    "#     model = SimpleCNN()\n",
    "#     model = model.to(device)\n",
    "\n",
    "# # VGG model\n",
    "# def VGG():\n",
    "#     model = models.vgg16(pretrained= True)\n",
    "#     model.eval()\n",
    "#     with torch.no_grad():\n",
    "#         nn_filters = model.classifier[6].in_features\n",
    "#         model.classifier[6] = nn.Linear(nn_filters,1)\n",
    "#         model = model.to(device)\n",
    "\n",
    "# def resnet():\n",
    "#     model = models.resnet34(pretrained = True)\n",
    "#     model.eval()\n",
    "\n",
    "#     #add a new final layer\n",
    "#     with torch.no_grad():\n",
    "#         nr_filters = model.fc.in_features  #number of input features of last layer\n",
    "#         model.fc = nn.Linear(nr_filters, 1)\n",
    "#         model = model.to(device)\n",
    "\n",
    "def alexnet():\n",
    "    model = models.alexnet(pretrained = True)\n",
    "    model.eval()\n",
    "    with torch.no_grad():\n",
    "        nn_filters = model.classifier[6].in_features\n",
    "        model.classifier[6] = nn.Linear(nn_filters,1)\n",
    "        model = model.to(device)\n",
    "\n",
    "# def densenet():\n",
    "#     model = models.densenet121(pretrained = True)\n",
    "#     model.eval()\n",
    "#     with torch.no_grad():\n",
    "#         nn_filters = model.classifier.in_features\n",
    "#         model.classifier = nn.Linear(nn_filters,1)\n",
    "#         model = model.to(device)\n",
    "\n",
    "# def googlenet():\n",
    "#     model = models.googlenet(pretrained = True)\n",
    "#     model.eval()\n",
    "#     with torch.no_grad():\n",
    "#         nn_filters = model.fc.in_features\n",
    "#         model.fc = nn.Linear(nn_filters,1)\n",
    "#         model = model.to(device)\n",
    "\n",
    "def inceptionv3():\n",
    "    model = models.inception_v3(pretrained = True)\n",
    "    model.eval()\n",
    "    with torch.no_grad():\n",
    "        nn_filters = model.fc.in_features\n",
    "        model.fc = nn.Linear(nn_filters, 1)\n",
    "        model = model.to(device)\n",
    "\n",
    "# def mobilenet():\n",
    "#     model = models.mobilenet_v2(pretrained = True)\n",
    "#     model.eval()\n",
    "#     with torch.no_grad():\n",
    "#         nn_filters = model.classifier[1].in_features\n",
    "#         model.classifier[1] = nn.Linear(nn_filters,1)\n",
    "#         model = model.to(device)\n",
    "\n",
    "# def squeezenet():\n",
    "#     model = models.squeezenet1_1(pretrained = True)\n",
    "#     model.eval()\n",
    "#     with torch.no_grad():\n",
    "#         model.classifier[1] = nn.Conv2d(512,1, kernel_size=(1,1))\n",
    "#         model.num_classes = 1\n",
    "#         model = model.to(device)\n",
    "\n",
    "# model_id = 8\n",
    "\n",
    "# if model_id == 0:\n",
    "#     CNN()\n",
    "# elif model_id == 1:\n",
    "#     VGG()\n",
    "# elif model_id == 2:\n",
    "#     resnet()\n",
    "# elif model_id == 3:\n",
    "#     alexnet()\n",
    "# elif model_id == 4:\n",
    "#     densenet()\n",
    "# elif model_id == 5:\n",
    "#     googlenet()\n",
    "# elif model_id == 6:\n",
    "#     inceptionv3()\n",
    "# elif model_id == 7:\n",
    "#     mobilenet()\n",
    "# else:\n",
    "#     squeezenet()\n",
    "\n",
    "from torchvision import models\n",
    "import torch.nn as nn\n",
    "import torch\n",
    "\n",
    "device = \"cuda\" if torch.cuda.is_available() else 'cpu'\n",
    "model = models.squeezenet1_1(pretrained=True)\n",
    "\n",
    "model.eval()\n",
    "with torch.no_grad():\n",
    "    model.classifier[1] = nn.Conv2d(512, 1, kernel_size=(1,1))\n",
    "    model.num_classes = 1\n",
    "    model = model.to(device)"
   ]
  },
  {
   "cell_type": "markdown",
   "metadata": {},
   "source": [
    "## optimizer and loss functions"
   ]
  },
  {
   "cell_type": "code",
   "execution_count": null,
   "metadata": {},
   "outputs": [],
   "source": [
    "optimizer_fn = torch.optim.Adam(model.parameters(),lr=0.01)\n",
    "loss_fn = nn.BCEWithLogitsLoss()"
   ]
  },
  {
   "cell_type": "markdown",
   "metadata": {},
   "source": [
    "## Train and Test loops"
   ]
  },
  {
   "cell_type": "code",
   "execution_count": null,
   "metadata": {},
   "outputs": [],
   "source": [
    "def accuracy_fn(y_true, y_pred):\n",
    "    correct = torch.eq(y_true, y_pred).sum().item()\n",
    "    acc = (correct/len(y_pred)) *100\n",
    "    return acc"
   ]
  },
  {
   "cell_type": "code",
   "execution_count": null,
   "metadata": {},
   "outputs": [],
   "source": [
    "# Training loop\n",
    "from tqdm import tqdm\n",
    "for epoch in range(5):\n",
    "    print(f'!!epoch {epoch+1} is running!!')\n",
    "\n",
    "    cum_loss = 0\n",
    "    for i,(images, labels) in tqdm(enumerate(train_loader),total = len(train_loader)):\n",
    "        # Forward pass\n",
    "        model.train()\n",
    "        images = images.to(device)\n",
    "        labels = labels.unsqueeze(1).type(torch.float32)\n",
    "        labels= labels.to(device)\n",
    "\n",
    "        output_logits = model(images)\n",
    "        output_pred = torch.round(torch.sigmoid(output_logits))\n",
    "\n",
    "        loss = loss_fn(output_logits,labels)\n",
    "        cum_loss += loss\n",
    "        \n",
    "        # Backward pass and optimization\n",
    "        optimizer_fn.zero_grad()\n",
    "        loss.backward()\n",
    "        optimizer_fn.step()\n",
    "    print(f'Epoch {epoch+1}, Train Loss: {cum_loss/len(train_loader)}')\n",
    "\n",
    "    # test loop\n",
    "    model.eval()\n",
    "    with torch.no_grad():\n",
    "        cum_loss = 0\n",
    "        cum_acc = 0\n",
    "        for images_test,labels_test in test_loader:\n",
    "            images_test = images_test.to(device)\n",
    "            labels_test = labels_test.unsqueeze(1).type(torch.float32)\n",
    "            labels_test = labels_test.to(device)\n",
    "\n",
    "            test_logits = model(images_test)\n",
    "            test_pred = torch.round(torch.sigmoid(test_logits))\n",
    "\n",
    "            test_loss = loss_fn(test_logits,labels_test)\n",
    "            cum_loss += test_loss\n",
    "            cum_acc += accuracy_fn(y_true = labels_test, y_pred = test_pred)\n",
    "        print(f'Epoch {epoch+1}, Test Loss {cum_loss/len(test_loader)}, accuracy {cum_acc/len(test_loader)}')"
   ]
  },
  {
   "cell_type": "markdown",
   "metadata": {},
   "source": [
    "## Accuracy and plotting"
   ]
  },
  {
   "cell_type": "code",
   "execution_count": null,
   "metadata": {},
   "outputs": [],
   "source": [
    "images, label = next(iter(test_loader))\n",
    "\n",
    "model.eval()\n",
    "with torch.inference_mode():\n",
    "    pred = model(images)\n",
    "label, torch.round(torch.sigmoid(pred)).T"
   ]
  },
  {
   "cell_type": "code",
   "execution_count": null,
   "metadata": {},
   "outputs": [],
   "source": [
    "import matplotlib.pyplot as plt\n",
    "image,labels = next(iter(train_loader))\n",
    "plt.figure()\n",
    "plt.imshow(image[0].permute(1,2,0).numpy())\n",
    "plt.show()"
   ]
  },
  {
   "cell_type": "code",
   "execution_count": null,
   "metadata": {},
   "outputs": [],
   "source": [
    "def inference(test_data):\n",
    "  idx = torch.randint(1, len(test_data), (1,))\n",
    "  sample = torch.unsqueeze(test_data[idx][0], dim=0).to(device)\n",
    "  print(test_data[idx][1])\n",
    "\n",
    "  if torch.sigmoid(model(sample)) < 0.5:\n",
    "    print(\"Prediction : normal\")\n",
    "  else:\n",
    "    print(\"Prediction : jaundice\")\n",
    "\n",
    "\n",
    "  plt.imshow(test_data[idx][0].permute(1, 2, 0))\n",
    "\n",
    "inference()"
   ]
  },
  {
   "attachments": {
    "image.png": {
     "image/png": "[encoded data removed]"
    }
   },
   "cell_type": "markdown",
   "metadata": {},
   "source": [
    "## Results\n",
    "### Squeezenet\n",
    "![image.png](attachment:image.png)"
   ]
  }
 ],
 "metadata": {
  "kernelspec": {
   "display_name": "Python 3",
   "language": "python",
   "name": "python3"
  },
  "language_info": {
   "codemirror_mode": {
    "name": "ipython",
    "version": 3
   },
   "file_extension": ".py",
   "mimetype": "text/x-python",
   "name": "python",
   "nbconvert_exporter": "python",
   "pygments_lexer": "ipython3",
   "version": "3.11.5"
  }
 },
 "nbformat": 4,
 "nbformat_minor": 2
}
