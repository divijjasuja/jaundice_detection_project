{
 "cells": [
  {
   "cell_type": "markdown",
   "metadata": {},
   "source": [
    "# Jaundice Detection Project"
   ]
  },
  {
   "cell_type": "markdown",
   "metadata": {},
   "source": [
    "For previous dataset we will be using skin detections and putting it in dataloader but not in new data set"
   ]
  },
  {
   "cell_type": "markdown",
   "metadata": {},
   "source": [
    "## Skin Detection"
   ]
  },
  {
   "cell_type": "code",
   "execution_count": null,
   "metadata": {},
   "outputs": [],
   "source": [
    "from code_snippets import skin_detection\n",
    "custom_skin_detector = skin_detection.custom_skin_detector"
   ]
  },
  {
   "cell_type": "markdown",
   "metadata": {},
   "source": [
    "## Getting the data"
   ]
  },
  {
   "cell_type": "code",
   "execution_count": null,
   "metadata": {},
   "outputs": [],
   "source": [
    "# import torch\n",
    "# from torch import nn\n",
    "# from torch.utils.data import DataLoader, random_split\n",
    "# from torchvision import datasets, transforms\n",
    "# import numpy as np\n",
    "\n",
    "# # transformations\n",
    "# transform = transforms.Compose([\n",
    "#     SkinTransform(skin_detector = custom_skin_detector),\n",
    "#     transforms.Resize((512,512)),    \n",
    "#     transforms.ToTensor()\n",
    "# ])\n",
    "\n",
    "# # Load the datasets\n",
    "# dataset = datasets.ImageFolder('./images',transform=transform)\n",
    "\n",
    "\n",
    "# # combined dataset\n",
    "# train_size = int(0.8*len(dataset))\n",
    "# test_size = len(dataset) - train_size\n",
    "\n",
    "# train_dataset, test_dataset = random_split(dataset, [train_size,test_size],generator=torch.Generator().manual_seed(42))\n",
    "\n",
    "\n",
    "# # Create the dataloaders\n",
    "# batch_size = 32\n",
    "# train_loader = DataLoader(train_dataset,batch_size=batch_size, shuffle=True)\n",
    "# test_loader = DataLoader(test_dataset,batch_size=batch_size,shuffle=True)"
   ]
  },
  {
   "cell_type": "code",
   "execution_count": null,
   "metadata": {},
   "outputs": [],
   "source": [
    "# import matplotlib.pyplot as plt\n",
    "# image,labels = next(iter(train_loader))\n",
    "# plt.figure()\n",
    "# plt.imshow(image[0].permute(1,2,0).numpy())\n",
    "# plt.show()"
   ]
  },
  {
   "cell_type": "markdown",
   "metadata": {},
   "source": [
    "New Dataset"
   ]
  },
  {
   "cell_type": "code",
   "execution_count": null,
   "metadata": {},
   "outputs": [],
   "source": [
    "import pandas as pd\n",
    "import torch\n",
    "from torch import nn\n",
    "from torch.utils.data import DataLoader, random_split, Dataset\n",
    "from torchvision import datasets, transforms\n",
    "import numpy as np\n",
    "import PIL\n",
    "from PIL import Image, ImageFilter\n",
    "import os\n",
    "\n",
    "jaundice_csv = pd.read_csv(\"./NeoJaundice/chd_jaundice_published_2.csv\")\n",
    "jaundice_csv.head()"
   ]
  },
  {
   "cell_type": "code",
   "execution_count": null,
   "metadata": {},
   "outputs": [],
   "source": [
    "jaundice_csv.loc[1024]"
   ]
  },
  {
   "cell_type": "markdown",
   "metadata": {},
   "source": [
    "#### Putting it all together"
   ]
  },
  {
   "cell_type": "code",
   "execution_count": null,
   "metadata": {},
   "outputs": [],
   "source": [
    "from code_snippets import custom_dataset\n",
    "from code_snippets.image_filters import dialation_filter, erosion_filter, median_filter\n",
    "transform = transforms.Compose([\n",
    "    transforms.CenterCrop(150),\n",
    "    transforms.Resize((224,224)),\n",
    "    # median_filter.MedianFilter(kernel_size=5),\n",
    "    dialation_filter.Dilation(kernel_size=5),\n",
    "    erosion_filter.Erosion(kernel_size=5),\n",
    "    transforms.ToTensor(),\n",
    "])\n",
    "\n",
    "# importing dataset using new customdataset class\n",
    "dataset = custom_dataset.CustomDataset(\"./NeoJaundice/chd_jaundice_published_2.csv\", \"./NeoJaundice/images/\", \"image_idx\", \"Treatment\",transform=transform)\n",
    "\n",
    "# splitting size\n",
    "train_size = int(0.8*len(dataset))\n",
    "test_size = len(dataset) - train_size\n",
    "\n",
    "# split the data\n",
    "train_dataset, test_dataset = random_split(dataset, [train_size,test_size],generator=torch.Generator().manual_seed(42))\n",
    "\n",
    "# Create the dataloaders\n",
    "batch_size = 1\n",
    "train_loader = DataLoader(train_dataset,batch_size=batch_size, shuffle=True)\n",
    "test_loader = DataLoader(test_dataset,batch_size=batch_size,shuffle=True)"
   ]
  },
  {
   "cell_type": "code",
   "execution_count": null,
   "metadata": {},
   "outputs": [],
   "source": [
    "import matplotlib.pyplot as plt\n",
    "\n",
    "fig = plt.figure(figsize = (20,20))\n",
    "for i in range(16):\n",
    "    fig.add_subplot(4,4,i+1)\n",
    "    image,labels = next(iter(train_loader))\n",
    "    plt.imshow(image[0].permute(1,2,0).numpy())\n",
    "    plt.title(labels[0].item())\n",
    "plt.show()\n"
   ]
  },
  {
   "cell_type": "markdown",
   "metadata": {},
   "source": [
    "## Models"
   ]
  },
  {
   "cell_type": "code",
   "execution_count": null,
   "metadata": {},
   "outputs": [],
   "source": [
    "import code_snippets.models\n",
    "\n",
    "from torchvision import models\n",
    "\n",
    "device = \"cuda\" if torch.cuda.is_available() else \"cpu\"\n",
    "\n",
    "\n",
    "model = code_snippets.models.alexnet(device)\n",
    "model = models.alexnet(pretrained = True)\n",
    "model.eval()\n",
    "with torch.no_grad():\n",
    "    nn_filters = model.classifier[6].in_features\n",
    "    model.classifier[6] = nn.Linear(nn_filters,1)\n",
    "    model = model.to(device)"
   ]
  },
  {
   "cell_type": "markdown",
   "metadata": {},
   "source": [
    "## optimizer and loss functions"
   ]
  },
  {
   "cell_type": "code",
   "execution_count": null,
   "metadata": {},
   "outputs": [],
   "source": [
    "optimizer_fn = torch.optim.SGD(model.parameters(),lr=0.003,weight_decay=0.000003)\n",
    "loss_fn = nn.BCEWithLogitsLoss()"
   ]
  },
  {
   "cell_type": "markdown",
   "metadata": {},
   "source": [
    "## Train and Test loops"
   ]
  },
  {
   "cell_type": "code",
   "execution_count": null,
   "metadata": {},
   "outputs": [],
   "source": [
    "def accuracy_fn(y_true, y_pred):\n",
    "    correct = torch.eq(y_true, y_pred).sum().item()\n",
    "    acc = (correct/len(y_pred)) *100\n",
    "    return acc"
   ]
  },
  {
   "cell_type": "code",
   "execution_count": null,
   "metadata": {},
   "outputs": [],
   "source": [
    "# Training loop\n",
    "from torcheval.metrics.aggregation.auc import AUC\n",
    "from tqdm import tqdm\n",
    "\n",
    "torch.manual_seed(42)\n",
    "torch.cuda.manual_seed(42)\n",
    "\n",
    "device = \"cuda\" if torch.cuda.is_available() else \"cpu\"\n",
    "\n",
    "auc = AUC()\n",
    "auc_test = AUC()\n",
    "for epoch in range(5):\n",
    "    print(f'!!epoch {epoch+1} is running!!')\n",
    "\n",
    "    cum_loss = 0\n",
    "    \n",
    "    for i,(images, labels) in tqdm(enumerate(train_loader),total = len(train_loader)):\n",
    "        # Forward pass\n",
    "        model.train()\n",
    "        images = images.to(device)\n",
    "        labels = labels.unsqueeze(1).type(torch.float32)\n",
    "        labels= labels.to(device)\n",
    "\n",
    "        output_logits = model(images)\n",
    "        output_pred = torch.round(torch.sigmoid(output_logits))\n",
    "        acc = (output_pred == labels).sum().item() / labels.size(0)\n",
    "        \n",
    "        auc.update(labels, output_pred)\n",
    "\n",
    "        loss = loss_fn(output_logits,labels)\n",
    "        cum_loss += loss\n",
    "        \n",
    "        # Backward pass and optimization\n",
    "        optimizer_fn.zero_grad()\n",
    "        loss.backward()\n",
    "        optimizer_fn.step()\n",
    "    print(f'Epoch {epoch+1}, Train Loss: {cum_loss/len(train_loader)}, Accuracy: {acc}, Auc: {auc.compute()}')\n",
    "    # auc.reset()\n",
    "\n",
    "    # test loop\n",
    "    model.eval()\n",
    "    with torch.no_grad():\n",
    "        cum_loss = 0\n",
    "        cum_acc = 0\n",
    "        for images_test,labels_test in test_loader:\n",
    "            images_test = images_test.to(device)\n",
    "            labels_test = labels_test.unsqueeze(1).type(torch.float32)\n",
    "            labels_test = labels_test.to(device)\n",
    "\n",
    "            test_logits = model(images_test)\n",
    "            test_pred = torch.round(torch.sigmoid(test_logits))\n",
    "            test_loss = loss_fn(test_logits,labels_test)\n",
    "            auc_test.update(test_pred, labels_test)\n",
    "            cum_loss += test_loss\n",
    "            cum_acc += accuracy_fn(y_true = labels_test, y_pred = test_pred)\n",
    "        print(f'Epoch {epoch+1}, Test Loss {cum_loss/len(test_loader)}, accuracy {cum_acc/len(test_loader)}, Auc: {auc_test.compute()}')\n",
    "        # auc_test.reset()"
   ]
  },
  {
   "cell_type": "code",
   "execution_count": null,
   "metadata": {},
   "outputs": [],
   "source": [
    "import matplotlib.pyplot as plt\n",
    "image,labels = next(iter(train_loader))\n",
    "plt.figure()\n",
    "plt.imshow(image[0].permute(1,2,0).numpy())\n",
    "plt.show()"
   ]
  },
  {
   "cell_type": "code",
   "execution_count": null,
   "metadata": {},
   "outputs": [],
   "source": [
    "from ignite.metrics import ClassificationReport, ConfusionMatrix\n"
   ]
  }
 ],
 "metadata": {
  "kernelspec": {
   "display_name": "Python 3",
   "language": "python",
   "name": "python3"
  },
  "language_info": {
   "codemirror_mode": {
    "name": "ipython",
    "version": 3
   },
   "file_extension": ".py",
   "mimetype": "text/x-python",
   "name": "python",
   "nbconvert_exporter": "python",
   "pygments_lexer": "ipython3",
   "version": "3.12.6"
  }
 },
 "nbformat": 4,
 "nbformat_minor": 2
}
